{
 "cells": [
  {
   "cell_type": "code",
   "execution_count": 2,
   "metadata": {
    "collapsed": false
   },
   "outputs": [
    {
     "name": "stdout",
     "output_type": "stream",
     "text": [
      "[['', 'year', 'month', 'intent', 'police', 'sex', 'age', 'race', 'hispanic', 'place', 'education'], ['1', '2012', '01', 'Suicide', '0', 'M', '34', 'Asian/Pacific Islander', '100', 'Home', '4'], ['2', '2012', '01', 'Suicide', '0', 'F', '21', 'White', '100', 'Street', '3'], ['3', '2012', '01', 'Suicide', '0', 'M', '60', 'White', '100', 'Other specified', '4'], ['4', '2012', '02', 'Suicide', '0', 'M', '64', 'White', '100', 'Home', '4']]\n"
     ]
    }
   ],
   "source": [
    "# read in data \n",
    "import csv \n",
    "f=open(\"guns.csv\", \"r\")\n",
    "data=list(csv.reader(f))\n",
    "#check data read in\n",
    "print(data[0:5])\n",
    "\n",
    "#header: row#, year, month, intent, police, sex, age, race,\n",
    "#hispanic, place, education"
   ]
  },
  {
   "cell_type": "code",
   "execution_count": 3,
   "metadata": {
    "collapsed": false
   },
   "outputs": [
    {
     "name": "stdout",
     "output_type": "stream",
     "text": [
      "['', 'year', 'month', 'intent', 'police', 'sex', 'age', 'race', 'hispanic', 'place', 'education']\n",
      "[['1', '2012', '01', 'Suicide', '0', 'M', '34', 'Asian/Pacific Islander', '100', 'Home', '4'], ['2', '2012', '01', 'Suicide', '0', 'F', '21', 'White', '100', 'Street', '3'], ['3', '2012', '01', 'Suicide', '0', 'M', '60', 'White', '100', 'Other specified', '4'], ['4', '2012', '02', 'Suicide', '0', 'M', '64', 'White', '100', 'Home', '4'], ['5', '2012', '02', 'Suicide', '0', 'M', '31', 'White', '100', 'Other specified', '2']]\n"
     ]
    }
   ],
   "source": [
    "# prepare data \n",
    "headers=data[0]\n",
    "data=data[1:len(data):1]\n",
    "print(headers)\n",
    "print(data[0:5])\n",
    "\n",
    "\n",
    "\n"
   ]
  },
  {
   "cell_type": "code",
   "execution_count": 4,
   "metadata": {
    "collapsed": false
   },
   "outputs": [
    {
     "name": "stdout",
     "output_type": "stream",
     "text": [
      "{'2013': 33636, '2012': 33563, '2014': 33599}\n"
     ]
    }
   ],
   "source": [
    "years= [row[1] for row in data] # list comprehension - takes all the years out \n",
    "\n",
    "year_counts={} \n",
    "\n",
    "#new entry in dictionary for each year \n",
    "for i in years:\n",
    "    if i in year_counts:\n",
    "        year_counts[i]=year_counts[i]+1\n",
    "    else: \n",
    "        year_counts[i]=1\n",
    "print(year_counts)    \n",
    "\n"
   ]
  },
  {
   "cell_type": "code",
   "execution_count": 5,
   "metadata": {
    "collapsed": false
   },
   "outputs": [
    {
     "name": "stdout",
     "output_type": "stream",
     "text": [
      "{'M': 86349, 'F': 14449}\n"
     ]
    }
   ],
   "source": [
    "#sex\n",
    "sex= [row[5] for row in data] # list comprehension - takes all the years out \n",
    "\n",
    "sex_counts={} \n",
    "\n",
    "#new entry in dictionary for each year \n",
    "for i in sex:\n",
    "    if i in sex_counts:\n",
    "        sex_counts[i]=sex_counts[i]+1\n",
    "    else: \n",
    "        sex_counts[i]=1\n",
    "print(sex_counts)    \n"
   ]
  },
  {
   "cell_type": "code",
   "execution_count": 6,
   "metadata": {
    "collapsed": false
   },
   "outputs": [
    {
     "name": "stdout",
     "output_type": "stream",
     "text": [
      "{'White': 66237, 'Hispanic': 9022, 'Asian/Pacific Islander': 1326, 'Native American/Native Alaskan': 917, 'Black': 23296}\n"
     ]
    }
   ],
   "source": [
    "#race\n",
    "race= [row[7] for row in data] # list comprehension - takes all the years out \n",
    "\n",
    "race_counts={} \n",
    "\n",
    "#new entry in dictionary for each year \n",
    "for i in race:\n",
    "    if i in race_counts:\n",
    "        race_counts[i]=race_counts[i]+1\n",
    "    else: \n",
    "        race_counts[i]=1\n",
    "print(race_counts)    "
   ]
  },
  {
   "cell_type": "markdown",
   "metadata": {},
   "source": [
    "# **To Do Next**\n",
    "\n",
    "\n",
    "**Make a function so can run by simply adding in the column you want to count up. Next step after is to create a class so we can open the file and do an overall read out** "
   ]
  },
  {
   "cell_type": "code",
   "execution_count": 7,
   "metadata": {
    "collapsed": false
   },
   "outputs": [
    {
     "name": "stdout",
     "output_type": "stream",
     "text": [
      "[['Id', 'Year', 'Id', 'Sex', 'Id', 'Hispanic Origin', 'Id', 'Id2', 'Geography', 'Total', 'Race Alone - White', 'Race Alone - Hispanic', 'Race Alone - Black or African American', 'Race Alone - American Indian and Alaska Native', 'Race Alone - Asian', 'Race Alone - Native Hawaiian and Other Pacific Islander', 'Two or More Races'], ['cen42010', 'April 1, 2010 Census', 'totsex', 'Both Sexes', 'tothisp', 'Total', '0100000US', '', 'United States', '308745538', '197318956', '44618105', '40250635', '3739506', '15159516', '674625', '6984195']]\n"
     ]
    }
   ],
   "source": [
    "#load more data for census comparison to gun deaths\n",
    "import csv\n",
    "g=open(\"census.csv\", \"r\")\n",
    "census= list(csv.reader(g))\n",
    "\n",
    "\n",
    "print(census)"
   ]
  },
  {
   "cell_type": "code",
   "execution_count": 8,
   "metadata": {
    "collapsed": false
   },
   "outputs": [],
   "source": [
    "#manual mapping\n",
    "mapping = {\n",
    "    \"Asian/Pacific Islander\": 15159516+674625,\n",
    "    \"Black\": 40250635,\n",
    "    \"Native American/Native Alaskan\": 3739506,\n",
    "    \"Hispanic\": 44618105,\n",
    "    \"White\": 197318956\n",
    "}"
   ]
  },
  {
   "cell_type": "code",
   "execution_count": 9,
   "metadata": {
    "collapsed": false
   },
   "outputs": [
    {
     "name": "stdout",
     "output_type": "stream",
     "text": [
      "{'White': 33.56849303419181, 'Hispanic': 20.220491210910907, 'Asian/Pacific Islander': 8.374309664161762, 'Native American/Native Alaskan': 24.521955573811088, 'Black': 57.8773477735196}\n"
     ]
    }
   ],
   "source": [
    "race_per_hundredk={}\n",
    "\n",
    "for i in race_counts: # for every key in race_counts do...\n",
    "    race_counts[i]=race_counts[i]/mapping[i]\n",
    "    race_counts[i]=race_counts[i]*100000 #use value from above\n",
    "    race_per_hundredk[i]=race_counts[i]\n",
    "    \n",
    "print(race_per_hundredk)"
   ]
  },
  {
   "cell_type": "code",
   "execution_count": 16,
   "metadata": {
    "collapsed": false
   },
   "outputs": [
    {
     "name": "stdout",
     "output_type": "stream",
     "text": [
      "{'Native American/Native Alaskan': 326, 'White': 9147, 'Hispanic': 5634, 'Asian/Pacific Islander': 559, 'Black': 19510}\n"
     ]
    }
   ],
   "source": [
    "intents=[row[3] for row in data] \n",
    "races= [row[7] for row in data]\n",
    "\n",
    "homicide_race_per_hundredk={}#create the right dictionary\n",
    "\n",
    "for i,race in enumerate(races): \n",
    "    if intents[i]==\"Homicide\":\n",
    "        if race in homicide_race_per_hundredk:\n",
    "            homicide_race_per_hundredk[race]=homicide_race_per_hundredk[race]+1\n",
    "        else:\n",
    "            homicide_race_per_hundredk[race]=1\n",
    "            \n",
    "print(homicide_race_per_hundredk)  \n",
    "\n"
   ]
  },
  {
   "cell_type": "code",
   "execution_count": 18,
   "metadata": {
    "collapsed": false
   },
   "outputs": [
    {
     "name": "stdout",
     "output_type": "stream",
     "text": [
      "{'Native American/Native Alaskan': 0.23312515145691343, 'White': 4.6356417981453335, 'Hispanic': 12.627161104219914, 'Asian/Pacific Islander': 3.530346230970155, 'Black': 48.471284987180944}\n"
     ]
    }
   ],
   "source": [
    "for i in homicide_race_per_hundredk: # for every key in race_counts do...\n",
    "    homicide_race_per_hundredk[i]=homicide_race_per_hundredk[i]/mapping[i]\n",
    "    homicide_race_per_hundredk[i]=homicide_race_per_hundredk[i]*100000 #use value from above\n",
    "    \n",
    "print(homicide_race_per_hundredk)"
   ]
  },
  {
   "cell_type": "code",
   "execution_count": null,
   "metadata": {
    "collapsed": true
   },
   "outputs": [],
   "source": []
  }
 ],
 "metadata": {
  "kernelspec": {
   "display_name": "Python 3",
   "language": "python",
   "name": "python3"
  },
  "language_info": {
   "codemirror_mode": {
    "name": "ipython",
    "version": 3
   },
   "file_extension": ".py",
   "mimetype": "text/x-python",
   "name": "python",
   "nbconvert_exporter": "python",
   "pygments_lexer": "ipython3",
   "version": "3.4.3"
  }
 },
 "nbformat": 4,
 "nbformat_minor": 0
}
